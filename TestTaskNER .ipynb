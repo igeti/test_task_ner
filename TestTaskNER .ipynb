{
  "nbformat": 4,
  "nbformat_minor": 0,
  "metadata": {
    "colab": {
      "name": "TestTaskNER.ipynb",
      "provenance": []
    },
    "kernelspec": {
      "name": "python3",
      "display_name": "Python 3"
    },
    "language_info": {
      "name": "python"
    }
  },
  "cells": [
    {
      "cell_type": "markdown",
      "metadata": {
        "id": "W3W68fXhinqH"
      },
      "source": [
        "# Тестовое задание \n",
        "\n",
        "   Ваша задача написать пайплайн для тренировки модели глубоко обучения (любую – **embeddings + LSTM, Bert** …) с использованием следующих инструментов: pytorch, sklearn, matplotlib – для решения задачи **NER** (извлечения сущностей).\n",
        "\n",
        "   В качестве данных используется датасет **Conll2003** с четырьмя классами **Per, Org, Loc, Misc** в формате **Conll**.\n",
        "\n",
        "   В тетрадке ниже заданы основные классы и функции для построения требуемого пайплайн, какие-то уже имплементированы, какие-то – нет. Их требуется доработать. Тем не менее если данный набор абстракций вам не подходит Вы можете написать свой пайплайн «с нуля», однако обоснованность у этих действий должна быть.\n",
        "\n",
        "**Что оценивается в первую очередь:**\n",
        "- Выбранная архитектура для решения задачи\n",
        "- Выбранные предобученные веса \n",
        "- Полученные метрики\n",
        "\n",
        "**Затем:**\n",
        "- Глубина разведочного анализа\n",
        "- Какая схема теггирования используется (**BIO, IO** или другие)\n",
        "- Каким образом производится расчет метрик (потокенный отчет, отчет по точному совпадению спанов сущностей)\n",
        "\n",
        "**С меньшим приоритетом:** \n",
        "- Скорость предобработки и постобработки данных \n",
        "- Стиль кода"
      ]
    },
    {
      "cell_type": "code",
      "metadata": {
        "colab": {
          "base_uri": "https://localhost:8080/"
        },
        "id": "SiBslWvSRKH0",
        "outputId": "7981b1ce-7111-499a-e93d-9efba5a1e415"
      },
      "source": [
        "!wget https://raw.githubusercontent.com/synalp/NER/master/corpus/CoNLL-2003/eng.testa\n",
        "!wget https://raw.githubusercontent.com/synalp/NER/master/corpus/CoNLL-2003/eng.train"
      ],
      "execution_count": 3,
      "outputs": [
        {
          "output_type": "stream",
          "text": [
            "--2021-05-17 12:29:56--  https://raw.githubusercontent.com/synalp/NER/master/corpus/CoNLL-2003/eng.testa\n",
            "Resolving raw.githubusercontent.com (raw.githubusercontent.com)... 185.199.108.133, 185.199.109.133, 185.199.110.133, ...\n",
            "Connecting to raw.githubusercontent.com (raw.githubusercontent.com)|185.199.108.133|:443... connected.\n",
            "HTTP request sent, awaiting response... 200 OK\n",
            "Length: 827012 (808K) [text/plain]\n",
            "Saving to: ‘eng.testa’\n",
            "\n",
            "\reng.testa             0%[                    ]       0  --.-KB/s               \reng.testa           100%[===================>] 807.63K  --.-KB/s    in 0.04s   \n",
            "\n",
            "2021-05-17 12:29:57 (21.1 MB/s) - ‘eng.testa’ saved [827012/827012]\n",
            "\n"
          ],
          "name": "stdout"
        }
      ]
    },
    {
      "cell_type": "code",
      "metadata": {
        "colab": {
          "base_uri": "https://localhost:8080/"
        },
        "id": "Zt8yjpnXR6qL",
        "outputId": "dd1155fe-94ee-41f5-83e0-543eef8253b9"
      },
      "source": [
        "!head eng.train "
      ],
      "execution_count": 5,
      "outputs": [
        {
          "output_type": "stream",
          "text": [
            "-DOCSTART- -X- O O\n",
            "\n",
            "EU NNP I-NP I-ORG\n",
            "rejects VBZ I-VP O\n",
            "German JJ I-NP I-MISC\n",
            "call NN I-NP O\n",
            "to TO I-VP O\n",
            "boycott VB I-VP O\n",
            "British JJ I-NP I-MISC\n",
            "lamb NN I-NP O\n"
          ],
          "name": "stdout"
        }
      ]
    },
    {
      "cell_type": "code",
      "metadata": {
        "id": "61Q6EAQsXMgf"
      },
      "source": [
        "from torch.utils.data import Dataset, DataLoader\n",
        "from typing import List\n",
        "from collections import Counter\n",
        "import matplotlib.pyplot as plt\n",
        "from tqdm import tqdm\n",
        "from torch import nn\n",
        "from sklearn.metrics import classification_report"
      ],
      "execution_count": 30,
      "outputs": []
    },
    {
      "cell_type": "code",
      "metadata": {
        "colab": {
          "base_uri": "https://localhost:8080/"
        },
        "id": "HUVbuWYaT1YI",
        "outputId": "515307f3-fb7c-4f57-a117-56a87dc0daaa"
      },
      "source": [
        "def read_data(file):\n",
        "  lines = open(file, \"r\").readlines()\n",
        "  data = {\"sentences\": [], \"labels_per_sent\": []}\n",
        "  sentence, labels = [], []\n",
        "  for line in tqdm(lines):\n",
        "    line = line.strip()\n",
        "    if not line:\n",
        "      if sentence and labels:\n",
        "        assert len(sentence) == len(labels)\n",
        "        data[\"sentences\"].append(sentence)\n",
        "        data[\"labels_per_sent\"].append(labels)\n",
        "        sentence, labels = [], []\n",
        "      continue\n",
        "    if line.startswith(\"-DOCSTART-\"):\n",
        "      continue\n",
        "    else:\n",
        "      values = line.split(\" \")\n",
        "      try:\n",
        "        token, _, _, label = values\n",
        "        sentence.append(token)\n",
        "        if label != 'O':\n",
        "          labels.append(label.split('-')[-1])\n",
        "        else:\n",
        "          labels.append(label)\n",
        "\n",
        "      except Exception as e:\n",
        "        print(f\"Error has occur: {e}\")\n",
        "        continue\n",
        "  return data\n",
        "\n",
        "\n",
        "train = read_data(\"eng.train\")\n",
        "valid = read_data(\"eng.testa\")"
      ],
      "execution_count": 23,
      "outputs": [
        {
          "output_type": "stream",
          "text": [
            "100%|██████████| 219554/219554 [00:00<00:00, 869667.58it/s]\n",
            "100%|██████████| 55045/55045 [00:00<00:00, 867023.92it/s]\n"
          ],
          "name": "stderr"
        }
      ]
    },
    {
      "cell_type": "code",
      "metadata": {
        "colab": {
          "base_uri": "https://localhost:8080/"
        },
        "id": "O1lyVFf4Uvn2",
        "outputId": "8c313ff0-be8d-4902-88ed-4a1849315589"
      },
      "source": [
        "train[\"sentences\"][0], train[\"labels_per_sent\"][0]"
      ],
      "execution_count": 24,
      "outputs": [
        {
          "output_type": "execute_result",
          "data": {
            "text/plain": [
              "(['EU', 'rejects', 'German', 'call', 'to', 'boycott', 'British', 'lamb', '.'],\n",
              " ['ORG', 'O', 'MISC', 'O', 'O', 'O', 'MISC', 'O', 'O'])"
            ]
          },
          "metadata": {
            "tags": []
          },
          "execution_count": 24
        }
      ]
    },
    {
      "cell_type": "code",
      "metadata": {
        "colab": {
          "base_uri": "https://localhost:8080/"
        },
        "id": "fJDxtTCEXL-x",
        "outputId": "a5434c45-6b6f-47ab-f8e9-43f2c6e95c04"
      },
      "source": [
        "valid[\"sentences\"][0], valid[\"labels_per_sent\"][0]"
      ],
      "execution_count": 25,
      "outputs": [
        {
          "output_type": "execute_result",
          "data": {
            "text/plain": [
              "(['CRICKET',\n",
              "  '-',\n",
              "  'LEICESTERSHIRE',\n",
              "  'TAKE',\n",
              "  'OVER',\n",
              "  'AT',\n",
              "  'TOP',\n",
              "  'AFTER',\n",
              "  'INNINGS',\n",
              "  'VICTORY',\n",
              "  '.'],\n",
              " ['O', 'O', 'ORG', 'O', 'O', 'O', 'O', 'O', 'O', 'O', 'O'])"
            ]
          },
          "metadata": {
            "tags": []
          },
          "execution_count": 25
        }
      ]
    },
    {
      "cell_type": "code",
      "metadata": {
        "id": "lksWDE2MZaGU"
      },
      "source": [
        "def get_label_distribution(labels: List[List[str]]):\n",
        "  labels = [label for labels_per_sent in labels for label in labels_per_sent]\n",
        "  return Counter(labels)"
      ],
      "execution_count": 31,
      "outputs": []
    },
    {
      "cell_type": "code",
      "metadata": {
        "id": "QL5KBeDUan66"
      },
      "source": [
        "train_distribution = get_label_distribution(train[\"labels_per_sent\"])\n",
        "valid_distribution = get_label_distribution(valid[\"labels_per_sent\"])"
      ],
      "execution_count": 32,
      "outputs": []
    },
    {
      "cell_type": "code",
      "metadata": {
        "colab": {
          "base_uri": "https://localhost:8080/",
          "height": 547
        },
        "id": "Ma7HHMQua3L8",
        "outputId": "749e2725-970f-4958-ab07-844f444292e8"
      },
      "source": [
        "def visualize_distr(data: Counter):\n",
        "  labels = list(data.keys())\n",
        "  plt.bar(x=labels, height=list(data.values()))\n",
        "  plt.show()\n",
        "\n",
        "\n",
        "print(\"Train distribution\")\n",
        "visualize_distr(train_distribution)\n",
        "print(\"Valid distribution\")\n",
        "visualize_distr(valid_distribution)"
      ],
      "execution_count": 40,
      "outputs": [
        {
          "output_type": "stream",
          "text": [
            "Train distribution\n"
          ],
          "name": "stdout"
        },
        {
          "output_type": "display_data",
          "data": {
            "image/png": "[encoded data removed]",
            "text/plain": [
              "<Figure size 432x288 with 1 Axes>"
            ]
          },
          "metadata": {
            "tags": [],
            "needs_background": "light"
          }
        },
        {
          "output_type": "stream",
          "text": [
            "Valid distribution\n"
          ],
          "name": "stdout"
        },
        {
          "output_type": "display_data",
          "data": {
            "image/png": "[encoded data removed]",
            "text/plain": [
              "<Figure size 432x288 with 1 Axes>"
            ]
          },
          "metadata": {
            "tags": [],
            "needs_background": "light"
          }
        }
      ]
    },
    {
      "cell_type": "code",
      "metadata": {
        "id": "tlO1AWxXYPVl"
      },
      "source": [
        "class NERDataset(Dataset):\n",
        "\n",
        "  def __init__(self, data):\n",
        "    pass\n",
        "\n",
        "  def __getitem__(index):\n",
        "    pass\n",
        "\n",
        "  def __len__():\n",
        "    pass\n",
        "\n",
        "train_dataset = NERDataset(train)\n",
        "valid_dataset = NERDataset(valid)"
      ],
      "execution_count": 42,
      "outputs": []
    },
    {
      "cell_type": "code",
      "metadata": {
        "id": "7oRMRFr0c2Nb"
      },
      "source": [
        "train_datloader = DataLoader(train_dataset, batch_size=1, shuffle=True)\n",
        "valid_datloader = DataLoader(valid_dataset, batch_size=1, shuffle=True)"
      ],
      "execution_count": null,
      "outputs": []
    },
    {
      "cell_type": "code",
      "metadata": {
        "id": "Kv-cKwqnde3E"
      },
      "source": [
        "class NERModel(nn.Module):\n",
        "\n",
        "  def __init__(self):\n",
        "    pass\n",
        "\n",
        "  def forward(self):\n",
        "    pass"
      ],
      "execution_count": null,
      "outputs": []
    },
    {
      "cell_type": "code",
      "metadata": {
        "id": "W-Y8I1iReYxv"
      },
      "source": [
        "device = \"cuda:0\""
      ],
      "execution_count": null,
      "outputs": []
    },
    {
      "cell_type": "code",
      "metadata": {
        "id": "__G8sNO0eGfp"
      },
      "source": [
        "model = NERModel()\n",
        "model = model.to(device)"
      ],
      "execution_count": null,
      "outputs": []
    },
    {
      "cell_type": "code",
      "metadata": {
        "id": "mSxc2qQTfvJu"
      },
      "source": [
        "def transform_logits(predictions: List[torch.tensor]):\n",
        "  pass\n",
        "\n",
        "def transform_target(target_labels: List[torch.tensor]):\n",
        "  pass"
      ],
      "execution_count": null,
      "outputs": []
    },
    {
      "cell_type": "code",
      "metadata": {
        "id": "Bk0M2FPNhD25"
      },
      "source": [
        "def count_metrics(gold_labels_per_sentence: List[List[str]], predict_labels_per_sentence: List[List[str]]):\n",
        "  gold_labels = [l for l_per_sent in gold_labels_per_sentence for l in l_per_sent]\n",
        "  predict_labels = [l for l_per_sent in predict_labels_per_sentence for l in l_per_sent]\n",
        "  print(classification_report(gold_labels, predict_labels))"
      ],
      "execution_count": null,
      "outputs": []
    },
    {
      "cell_type": "code",
      "metadata": {
        "id": "_c45KAbxd7Yt"
      },
      "source": [
        "losses = {\"train_losses\": [], \"valid_losses\": []}\n",
        "\n",
        "epochs = 10\n",
        "\n",
        "for epoch in range(epochs):\n",
        "\n",
        "  print(f\"Start eposh #{epoch}\")\n",
        "\n",
        "  for train_batch in train_dataloader:\n",
        "\n",
        "    train_batch = train_batch.to(device)\n",
        "    loss, logits = model.forward(train_batch)\n",
        "    losses[\"train_losses\"].append(loss)\n",
        "    # ...\n",
        "\n",
        "  predict_labels, gold_labels = [], []\n",
        "\n",
        "  for valid_batch in valid_dataloader:\n",
        "\n",
        "    valid_batch = valid_batch.to(device)\n",
        "    loss, logits = model.forward(valid_batch)\n",
        "    losses[\"valid_losses\"].append(loss)\n",
        "    gold_labels.append(transform_target(valid_batch[\"labels\"]))\n",
        "    predict_labels.append(transform_logits(logits))\n",
        "    # ...\n",
        "\n",
        "\n",
        "  count_metrics(gold_labels, predict_labels)\n",
        "  \n",
        "  print(f\"End eposh #{epoch}\")\n",
        "\n"
      ],
      "execution_count": null,
      "outputs": []
    }
  ]
}